{
 "cells": [
  {
   "cell_type": "code",
   "execution_count": 1,
   "metadata": {},
   "outputs": [],
   "source": [
    "import pandas as pd\n",
    "import numpy as np \n",
    "import matplotlib.pyplot as plt\n",
    "%matplotlib inline"
   ]
  },
  {
   "cell_type": "markdown",
   "metadata": {},
   "source": [
    "###### Importing all csv files"
   ]
  },
  {
   "cell_type": "code",
   "execution_count": 3,
   "metadata": {},
   "outputs": [],
   "source": [
    "Audi = pd.read_csv('audi.csv')\n",
    "BMW = pd.read_csv('bmw.csv')\n",
    "Ford = pd.read_csv('ford.csv')\n",
    "Merc = pd.read_csv('Mercedes Benz.csv')\n",
    "toyota = pd.read_csv('toyota.csv')\n",
    "vw= pd.read_csv('Volkswagen.csv')\n",
    "hyundi = pd.read_csv('hyundi.csv')"
   ]
  },
  {
   "cell_type": "markdown",
   "metadata": {},
   "source": [
    "###### Combining all Files"
   ]
  },
  {
   "cell_type": "code",
   "execution_count": 4,
   "metadata": {},
   "outputs": [],
   "source": [
    "Audi['Price(£)'] = Audi['price']\n",
    "Audi['Engine Size(Lt)'] = Audi['engineSize']\n",
    "Audi = Audi.drop(['price','engineSize'],axis=1)\n",
    "Audi['model'] = Audi['model'].apply(lambda x: x.strip())\n",
    "Audi['Manufacture'] = ['Audi' for i in range(len(Audi['model']))]\n",
    "Audi = Audi[['Manufacture','model','year','transmission','mileage','tax','mpg','Engine Size(Lt)','Price(£)']]\n",
    "upA  = Audi['Price(£)'].mean() + 3*Audi['Price(£)'].std()\n",
    "Audi = Audi[-(Audi['Price(£)']>upA)]"
   ]
  },
  {
   "cell_type": "code",
   "execution_count": 5,
   "metadata": {},
   "outputs": [
    {
     "data": {
      "text/html": [
       "<div>\n",
       "<style scoped>\n",
       "    .dataframe tbody tr th:only-of-type {\n",
       "        vertical-align: middle;\n",
       "    }\n",
       "\n",
       "    .dataframe tbody tr th {\n",
       "        vertical-align: top;\n",
       "    }\n",
       "\n",
       "    .dataframe thead th {\n",
       "        text-align: right;\n",
       "    }\n",
       "</style>\n",
       "<table border=\"1\" class=\"dataframe\">\n",
       "  <thead>\n",
       "    <tr style=\"text-align: right;\">\n",
       "      <th></th>\n",
       "      <th>year</th>\n",
       "      <th>mileage</th>\n",
       "      <th>tax</th>\n",
       "      <th>mpg</th>\n",
       "      <th>Engine Size(Lt)</th>\n",
       "      <th>Price(£)</th>\n",
       "    </tr>\n",
       "  </thead>\n",
       "  <tbody>\n",
       "    <tr>\n",
       "      <th>count</th>\n",
       "      <td>10532.000000</td>\n",
       "      <td>10532.000000</td>\n",
       "      <td>10532.000000</td>\n",
       "      <td>10532.000000</td>\n",
       "      <td>10532.000000</td>\n",
       "      <td>10532.000000</td>\n",
       "    </tr>\n",
       "    <tr>\n",
       "      <th>mean</th>\n",
       "      <td>2017.075199</td>\n",
       "      <td>25060.018135</td>\n",
       "      <td>125.592955</td>\n",
       "      <td>51.031504</td>\n",
       "      <td>1.908564</td>\n",
       "      <td>22225.785701</td>\n",
       "    </tr>\n",
       "    <tr>\n",
       "      <th>std</th>\n",
       "      <td>2.166343</td>\n",
       "      <td>23553.119310</td>\n",
       "      <td>67.001674</td>\n",
       "      <td>12.814657</td>\n",
       "      <td>0.566697</td>\n",
       "      <td>9896.594688</td>\n",
       "    </tr>\n",
       "    <tr>\n",
       "      <th>min</th>\n",
       "      <td>1997.000000</td>\n",
       "      <td>5.000000</td>\n",
       "      <td>0.000000</td>\n",
       "      <td>18.900000</td>\n",
       "      <td>0.000000</td>\n",
       "      <td>1490.000000</td>\n",
       "    </tr>\n",
       "    <tr>\n",
       "      <th>25%</th>\n",
       "      <td>2016.000000</td>\n",
       "      <td>6000.000000</td>\n",
       "      <td>125.000000</td>\n",
       "      <td>40.900000</td>\n",
       "      <td>1.500000</td>\n",
       "      <td>15000.000000</td>\n",
       "    </tr>\n",
       "    <tr>\n",
       "      <th>50%</th>\n",
       "      <td>2017.000000</td>\n",
       "      <td>19358.000000</td>\n",
       "      <td>145.000000</td>\n",
       "      <td>49.600000</td>\n",
       "      <td>2.000000</td>\n",
       "      <td>20000.000000</td>\n",
       "    </tr>\n",
       "    <tr>\n",
       "      <th>75%</th>\n",
       "      <td>2019.000000</td>\n",
       "      <td>36793.000000</td>\n",
       "      <td>145.000000</td>\n",
       "      <td>58.900000</td>\n",
       "      <td>2.000000</td>\n",
       "      <td>27531.000000</td>\n",
       "    </tr>\n",
       "    <tr>\n",
       "      <th>max</th>\n",
       "      <td>2020.000000</td>\n",
       "      <td>323000.000000</td>\n",
       "      <td>580.000000</td>\n",
       "      <td>188.300000</td>\n",
       "      <td>6.300000</td>\n",
       "      <td>58000.000000</td>\n",
       "    </tr>\n",
       "  </tbody>\n",
       "</table>\n",
       "</div>"
      ],
      "text/plain": [
       "               year        mileage           tax           mpg  \\\n",
       "count  10532.000000   10532.000000  10532.000000  10532.000000   \n",
       "mean    2017.075199   25060.018135    125.592955     51.031504   \n",
       "std        2.166343   23553.119310     67.001674     12.814657   \n",
       "min     1997.000000       5.000000      0.000000     18.900000   \n",
       "25%     2016.000000    6000.000000    125.000000     40.900000   \n",
       "50%     2017.000000   19358.000000    145.000000     49.600000   \n",
       "75%     2019.000000   36793.000000    145.000000     58.900000   \n",
       "max     2020.000000  323000.000000    580.000000    188.300000   \n",
       "\n",
       "       Engine Size(Lt)      Price(£)  \n",
       "count     10532.000000  10532.000000  \n",
       "mean          1.908564  22225.785701  \n",
       "std           0.566697   9896.594688  \n",
       "min           0.000000   1490.000000  \n",
       "25%           1.500000  15000.000000  \n",
       "50%           2.000000  20000.000000  \n",
       "75%           2.000000  27531.000000  \n",
       "max           6.300000  58000.000000  "
      ]
     },
     "execution_count": 5,
     "metadata": {},
     "output_type": "execute_result"
    }
   ],
   "source": [
    "Audi.describe()"
   ]
  },
  {
   "cell_type": "code",
   "execution_count": 6,
   "metadata": {},
   "outputs": [
    {
     "data": {
      "text/plain": [
       "Text(0.5, 1.0, 'Price')"
      ]
     },
     "execution_count": 6,
     "metadata": {},
     "output_type": "execute_result"
    },
    {
     "data": {
      "image/png": "[encoded data removed]",
      "text/plain": [
       "<Figure size 432x288 with 1 Axes>"
      ]
     },
     "metadata": {
      "needs_background": "light"
     },
     "output_type": "display_data"
    }
   ],
   "source": [
    "plt.hist(Audi['Price(£)'])\n",
    "plt.title('Price')"
   ]
  },
  {
   "cell_type": "code",
   "execution_count": 7,
   "metadata": {},
   "outputs": [
    {
     "data": {
      "text/plain": [
       "Text(0, 0.5, 'Price(£)')"
      ]
     },
     "execution_count": 7,
     "metadata": {},
     "output_type": "execute_result"
    },
    {
     "data": {
      "image/png": "[encoded data removed]",
      "text/plain": [
       "<Figure size 432x288 with 1 Axes>"
      ]
     },
     "metadata": {
      "needs_background": "light"
     },
     "output_type": "display_data"
    }
   ],
   "source": [
    "plt.bar(Audi['transmission'],Audi['Price(£)'])\n",
    "plt.xlabel('Transmision')\n",
    "plt.ylabel('Price(£)')"
   ]
  },
  {
   "cell_type": "code",
   "execution_count": 8,
   "metadata": {},
   "outputs": [],
   "source": [
    "BMW['Price(£)'] = BMW['price']\n",
    "BMW['Engine Size(Lt)'] = BMW['engineSize']\n",
    "BMW = BMW.drop(['price','engineSize'],axis=1)\n",
    "BMW['model'] = BMW['model'].apply(lambda x: x.strip())\n",
    "BMW['Manufacture'] = ['BMW' for i in range(len(BMW['model']))]\n",
    "BMW = BMW[['Manufacture','model','year','transmission','mileage','tax','mpg','Engine Size(Lt)','Price(£)']]\n",
    "upbmw  = BMW['Price(£)'].mean() + 3*BMW['Price(£)'].std()\n",
    "BMW = BMW[-(BMW['Price(£)']>upbmw)]"
   ]
  },
  {
   "cell_type": "code",
   "execution_count": 9,
   "metadata": {},
   "outputs": [
    {
     "data": {
      "text/html": [
       "<div>\n",
       "<style scoped>\n",
       "    .dataframe tbody tr th:only-of-type {\n",
       "        vertical-align: middle;\n",
       "    }\n",
       "\n",
       "    .dataframe tbody tr th {\n",
       "        vertical-align: top;\n",
       "    }\n",
       "\n",
       "    .dataframe thead th {\n",
       "        text-align: right;\n",
       "    }\n",
       "</style>\n",
       "<table border=\"1\" class=\"dataframe\">\n",
       "  <thead>\n",
       "    <tr style=\"text-align: right;\">\n",
       "      <th></th>\n",
       "      <th>year</th>\n",
       "      <th>mileage</th>\n",
       "      <th>tax</th>\n",
       "      <th>mpg</th>\n",
       "      <th>Engine Size(Lt)</th>\n",
       "      <th>Price(£)</th>\n",
       "    </tr>\n",
       "  </thead>\n",
       "  <tbody>\n",
       "    <tr>\n",
       "      <th>count</th>\n",
       "      <td>10580.000000</td>\n",
       "      <td>10580.000000</td>\n",
       "      <td>10580.000000</td>\n",
       "      <td>10580.000000</td>\n",
       "      <td>10580.000000</td>\n",
       "      <td>10580.000000</td>\n",
       "    </tr>\n",
       "    <tr>\n",
       "      <th>mean</th>\n",
       "      <td>2017.040170</td>\n",
       "      <td>25898.082987</td>\n",
       "      <td>131.429584</td>\n",
       "      <td>56.701871</td>\n",
       "      <td>2.149149</td>\n",
       "      <td>21907.995747</td>\n",
       "    </tr>\n",
       "    <tr>\n",
       "      <th>std</th>\n",
       "      <td>2.352159</td>\n",
       "      <td>25204.160519</td>\n",
       "      <td>62.010539</td>\n",
       "      <td>31.227415</td>\n",
       "      <td>0.532699</td>\n",
       "      <td>9743.450416</td>\n",
       "    </tr>\n",
       "    <tr>\n",
       "      <th>min</th>\n",
       "      <td>1996.000000</td>\n",
       "      <td>1.000000</td>\n",
       "      <td>0.000000</td>\n",
       "      <td>5.500000</td>\n",
       "      <td>0.000000</td>\n",
       "      <td>1200.000000</td>\n",
       "    </tr>\n",
       "    <tr>\n",
       "      <th>25%</th>\n",
       "      <td>2016.000000</td>\n",
       "      <td>5742.750000</td>\n",
       "      <td>125.000000</td>\n",
       "      <td>47.100000</td>\n",
       "      <td>2.000000</td>\n",
       "      <td>14793.750000</td>\n",
       "    </tr>\n",
       "    <tr>\n",
       "      <th>50%</th>\n",
       "      <td>2017.000000</td>\n",
       "      <td>19154.000000</td>\n",
       "      <td>145.000000</td>\n",
       "      <td>53.300000</td>\n",
       "      <td>2.000000</td>\n",
       "      <td>19999.000000</td>\n",
       "    </tr>\n",
       "    <tr>\n",
       "      <th>75%</th>\n",
       "      <td>2019.000000</td>\n",
       "      <td>38809.250000</td>\n",
       "      <td>145.000000</td>\n",
       "      <td>62.800000</td>\n",
       "      <td>2.000000</td>\n",
       "      <td>27281.250000</td>\n",
       "    </tr>\n",
       "    <tr>\n",
       "      <th>max</th>\n",
       "      <td>2020.000000</td>\n",
       "      <td>214000.000000</td>\n",
       "      <td>580.000000</td>\n",
       "      <td>470.800000</td>\n",
       "      <td>6.600000</td>\n",
       "      <td>56950.000000</td>\n",
       "    </tr>\n",
       "  </tbody>\n",
       "</table>\n",
       "</div>"
      ],
      "text/plain": [
       "               year        mileage           tax           mpg  \\\n",
       "count  10580.000000   10580.000000  10580.000000  10580.000000   \n",
       "mean    2017.040170   25898.082987    131.429584     56.701871   \n",
       "std        2.352159   25204.160519     62.010539     31.227415   \n",
       "min     1996.000000       1.000000      0.000000      5.500000   \n",
       "25%     2016.000000    5742.750000    125.000000     47.100000   \n",
       "50%     2017.000000   19154.000000    145.000000     53.300000   \n",
       "75%     2019.000000   38809.250000    145.000000     62.800000   \n",
       "max     2020.000000  214000.000000    580.000000    470.800000   \n",
       "\n",
       "       Engine Size(Lt)      Price(£)  \n",
       "count     10580.000000  10580.000000  \n",
       "mean          2.149149  21907.995747  \n",
       "std           0.532699   9743.450416  \n",
       "min           0.000000   1200.000000  \n",
       "25%           2.000000  14793.750000  \n",
       "50%           2.000000  19999.000000  \n",
       "75%           2.000000  27281.250000  \n",
       "max           6.600000  56950.000000  "
      ]
     },
     "execution_count": 9,
     "metadata": {},
     "output_type": "execute_result"
    }
   ],
   "source": [
    "BMW.describe()"
   ]
  },
  {
   "cell_type": "code",
   "execution_count": 10,
   "metadata": {},
   "outputs": [
    {
     "data": {
      "text/plain": [
       "Text(0.5, 1.0, 'Price')"
      ]
     },
     "execution_count": 10,
     "metadata": {},
     "output_type": "execute_result"
    },
    {
     "data": {
      "image/png": "[encoded data removed]",
      "text/plain": [
       "<Figure size 432x288 with 1 Axes>"
      ]
     },
     "metadata": {
      "needs_background": "light"
     },
     "output_type": "display_data"
    }
   ],
   "source": [
    "plt.hist(BMW['Price(£)'])\n",
    "plt.title('Price')"
   ]
  },
  {
   "cell_type": "code",
   "execution_count": 11,
   "metadata": {},
   "outputs": [
    {
     "data": {
      "text/plain": [
       "Text(0, 0.5, 'Price(£)')"
      ]
     },
     "execution_count": 11,
     "metadata": {},
     "output_type": "execute_result"
    },
    {
     "data": {
      "image/png": "[encoded data removed]",
      "text/plain": [
       "<Figure size 432x288 with 1 Axes>"
      ]
     },
     "metadata": {
      "needs_background": "light"
     },
     "output_type": "display_data"
    }
   ],
   "source": [
    "plt.bar(BMW['transmission'],BMW['Price(£)'])\n",
    "plt.xlabel('Transmision')\n",
    "plt.ylabel('Price(£)')"
   ]
  },
  {
   "cell_type": "code",
   "execution_count": 12,
   "metadata": {},
   "outputs": [],
   "source": [
    "Ford['Price(£)'] = Ford['price']\n",
    "Ford['Engine Size(Lt)'] = Ford['engineSize']\n",
    "Ford = Ford.drop(['price','engineSize'],axis=1)\n",
    "Ford['model'] = Ford['model'].apply(lambda x: x.strip())\n",
    "Ford['Manufacture'] = ['Ford' for i in range(len(Ford['model']))]\n",
    "Ford = Ford[['Manufacture','model','year','transmission','mileage','tax','mpg','Engine Size(Lt)','Price(£)']]\n",
    "upF  = Ford['Price(£)'].mean() + 3*Ford['Price(£)'].std()\n",
    "Ford = Ford[-(Ford['Price(£)']>upF)]"
   ]
  },
  {
   "cell_type": "code",
   "execution_count": 13,
   "metadata": {},
   "outputs": [
    {
     "data": {
      "text/html": [
       "<div>\n",
       "<style scoped>\n",
       "    .dataframe tbody tr th:only-of-type {\n",
       "        vertical-align: middle;\n",
       "    }\n",
       "\n",
       "    .dataframe tbody tr th {\n",
       "        vertical-align: top;\n",
       "    }\n",
       "\n",
       "    .dataframe thead th {\n",
       "        text-align: right;\n",
       "    }\n",
       "</style>\n",
       "<table border=\"1\" class=\"dataframe\">\n",
       "  <thead>\n",
       "    <tr style=\"text-align: right;\">\n",
       "      <th></th>\n",
       "      <th>year</th>\n",
       "      <th>mileage</th>\n",
       "      <th>tax</th>\n",
       "      <th>mpg</th>\n",
       "      <th>Engine Size(Lt)</th>\n",
       "      <th>Price(£)</th>\n",
       "    </tr>\n",
       "  </thead>\n",
       "  <tbody>\n",
       "    <tr>\n",
       "      <th>count</th>\n",
       "      <td>17794.000000</td>\n",
       "      <td>17794.000000</td>\n",
       "      <td>17794.000000</td>\n",
       "      <td>17794.000000</td>\n",
       "      <td>17794.000000</td>\n",
       "      <td>17794.000000</td>\n",
       "    </tr>\n",
       "    <tr>\n",
       "      <th>mean</th>\n",
       "      <td>2016.848320</td>\n",
       "      <td>23529.295493</td>\n",
       "      <td>112.873159</td>\n",
       "      <td>58.073626</td>\n",
       "      <td>1.336928</td>\n",
       "      <td>12091.326290</td>\n",
       "    </tr>\n",
       "    <tr>\n",
       "      <th>std</th>\n",
       "      <td>2.049815</td>\n",
       "      <td>19482.127794</td>\n",
       "      <td>61.641079</td>\n",
       "      <td>9.592362</td>\n",
       "      <td>0.391080</td>\n",
       "      <td>4327.497664</td>\n",
       "    </tr>\n",
       "    <tr>\n",
       "      <th>min</th>\n",
       "      <td>1996.000000</td>\n",
       "      <td>1.000000</td>\n",
       "      <td>0.000000</td>\n",
       "      <td>20.900000</td>\n",
       "      <td>0.000000</td>\n",
       "      <td>495.000000</td>\n",
       "    </tr>\n",
       "    <tr>\n",
       "      <th>25%</th>\n",
       "      <td>2016.000000</td>\n",
       "      <td>10106.000000</td>\n",
       "      <td>30.000000</td>\n",
       "      <td>53.300000</td>\n",
       "      <td>1.000000</td>\n",
       "      <td>8998.000000</td>\n",
       "    </tr>\n",
       "    <tr>\n",
       "      <th>50%</th>\n",
       "      <td>2017.000000</td>\n",
       "      <td>18420.000000</td>\n",
       "      <td>145.000000</td>\n",
       "      <td>58.900000</td>\n",
       "      <td>1.200000</td>\n",
       "      <td>11200.000000</td>\n",
       "    </tr>\n",
       "    <tr>\n",
       "      <th>75%</th>\n",
       "      <td>2018.000000</td>\n",
       "      <td>31250.000000</td>\n",
       "      <td>145.000000</td>\n",
       "      <td>65.700000</td>\n",
       "      <td>1.500000</td>\n",
       "      <td>15000.000000</td>\n",
       "    </tr>\n",
       "    <tr>\n",
       "      <th>max</th>\n",
       "      <td>2060.000000</td>\n",
       "      <td>177644.000000</td>\n",
       "      <td>570.000000</td>\n",
       "      <td>88.300000</td>\n",
       "      <td>5.000000</td>\n",
       "      <td>26500.000000</td>\n",
       "    </tr>\n",
       "  </tbody>\n",
       "</table>\n",
       "</div>"
      ],
      "text/plain": [
       "               year        mileage           tax           mpg  \\\n",
       "count  17794.000000   17794.000000  17794.000000  17794.000000   \n",
       "mean    2016.848320   23529.295493    112.873159     58.073626   \n",
       "std        2.049815   19482.127794     61.641079      9.592362   \n",
       "min     1996.000000       1.000000      0.000000     20.900000   \n",
       "25%     2016.000000   10106.000000     30.000000     53.300000   \n",
       "50%     2017.000000   18420.000000    145.000000     58.900000   \n",
       "75%     2018.000000   31250.000000    145.000000     65.700000   \n",
       "max     2060.000000  177644.000000    570.000000     88.300000   \n",
       "\n",
       "       Engine Size(Lt)      Price(£)  \n",
       "count     17794.000000  17794.000000  \n",
       "mean          1.336928  12091.326290  \n",
       "std           0.391080   4327.497664  \n",
       "min           0.000000    495.000000  \n",
       "25%           1.000000   8998.000000  \n",
       "50%           1.200000  11200.000000  \n",
       "75%           1.500000  15000.000000  \n",
       "max           5.000000  26500.000000  "
      ]
     },
     "execution_count": 13,
     "metadata": {},
     "output_type": "execute_result"
    }
   ],
   "source": [
    "Ford.describe()"
   ]
  },
  {
   "cell_type": "code",
   "execution_count": 14,
   "metadata": {},
   "outputs": [
    {
     "data": {
      "text/plain": [
       "Text(0.5, 1.0, 'Price')"
      ]
     },
     "execution_count": 14,
     "metadata": {},
     "output_type": "execute_result"
    },
    {
     "data": {
      "image/png": "[encoded data removed]",
      "text/plain": [
       "<Figure size 432x288 with 1 Axes>"
      ]
     },
     "metadata": {
      "needs_background": "light"
     },
     "output_type": "display_data"
    }
   ],
   "source": [
    "plt.hist(Ford['Price(£)'])\n",
    "plt.title('Price')"
   ]
  },
  {
   "cell_type": "code",
   "execution_count": 15,
   "metadata": {},
   "outputs": [
    {
     "data": {
      "text/plain": [
       "Text(0, 0.5, 'Price(£)')"
      ]
     },
     "execution_count": 15,
     "metadata": {},
     "output_type": "execute_result"
    },
    {
     "data": {
      "image/png": "[encoded data removed]",
      "text/plain": [
       "<Figure size 432x288 with 1 Axes>"
      ]
     },
     "metadata": {
      "needs_background": "light"
     },
     "output_type": "display_data"
    }
   ],
   "source": [
    "plt.bar(Ford['transmission'],Ford['Price(£)'])\n",
    "plt.xlabel('Transmision')\n",
    "plt.ylabel('Price(£)')"
   ]
  },
  {
   "cell_type": "code",
   "execution_count": 16,
   "metadata": {},
   "outputs": [],
   "source": [
    "Merc['Price(£)'] = Merc['price']\n",
    "Merc['Engine Size(Lt)'] = Merc['engineSize']\n",
    "Merc = Merc.drop(['price','engineSize'],axis=1)\n",
    "Merc['model'] = Merc['model'].apply(lambda x: x.strip())\n",
    "Merc['Manufacture'] = ['Mercedes Benz' for i in range(len(Merc['model']))]\n",
    "Merc = Merc[['Manufacture','model','year','transmission','mileage','tax','mpg','Engine Size(Lt)','Price(£)']]\n",
    "upm  = Merc['Price(£)'].mean() + 3*Merc['Price(£)'].std()\n",
    "Merc = Merc[-(Merc['Price(£)']>upm)]"
   ]
  },
  {
   "cell_type": "code",
   "execution_count": 17,
   "metadata": {},
   "outputs": [
    {
     "data": {
      "text/html": [
       "<div>\n",
       "<style scoped>\n",
       "    .dataframe tbody tr th:only-of-type {\n",
       "        vertical-align: middle;\n",
       "    }\n",
       "\n",
       "    .dataframe tbody tr th {\n",
       "        vertical-align: top;\n",
       "    }\n",
       "\n",
       "    .dataframe thead th {\n",
       "        text-align: right;\n",
       "    }\n",
       "</style>\n",
       "<table border=\"1\" class=\"dataframe\">\n",
       "  <thead>\n",
       "    <tr style=\"text-align: right;\">\n",
       "      <th></th>\n",
       "      <th>year</th>\n",
       "      <th>mileage</th>\n",
       "      <th>tax</th>\n",
       "      <th>mpg</th>\n",
       "      <th>Engine Size(Lt)</th>\n",
       "      <th>Price(£)</th>\n",
       "    </tr>\n",
       "  </thead>\n",
       "  <tbody>\n",
       "    <tr>\n",
       "      <th>count</th>\n",
       "      <td>12946.000000</td>\n",
       "      <td>12946.000000</td>\n",
       "      <td>12946.000000</td>\n",
       "      <td>12946.000000</td>\n",
       "      <td>12946.000000</td>\n",
       "      <td>12946.000000</td>\n",
       "    </tr>\n",
       "    <tr>\n",
       "      <th>mean</th>\n",
       "      <td>2017.275993</td>\n",
       "      <td>22190.058937</td>\n",
       "      <td>129.625367</td>\n",
       "      <td>55.507493</td>\n",
       "      <td>2.045698</td>\n",
       "      <td>23949.029198</td>\n",
       "    </tr>\n",
       "    <tr>\n",
       "      <th>std</th>\n",
       "      <td>2.229319</td>\n",
       "      <td>21202.559871</td>\n",
       "      <td>65.260232</td>\n",
       "      <td>14.990554</td>\n",
       "      <td>0.524199</td>\n",
       "      <td>9630.565245</td>\n",
       "    </tr>\n",
       "    <tr>\n",
       "      <th>min</th>\n",
       "      <td>1970.000000</td>\n",
       "      <td>1.000000</td>\n",
       "      <td>0.000000</td>\n",
       "      <td>1.100000</td>\n",
       "      <td>0.000000</td>\n",
       "      <td>650.000000</td>\n",
       "    </tr>\n",
       "    <tr>\n",
       "      <th>25%</th>\n",
       "      <td>2016.000000</td>\n",
       "      <td>6416.750000</td>\n",
       "      <td>125.000000</td>\n",
       "      <td>45.600000</td>\n",
       "      <td>1.600000</td>\n",
       "      <td>17300.000000</td>\n",
       "    </tr>\n",
       "    <tr>\n",
       "      <th>50%</th>\n",
       "      <td>2018.000000</td>\n",
       "      <td>15434.500000</td>\n",
       "      <td>145.000000</td>\n",
       "      <td>56.500000</td>\n",
       "      <td>2.000000</td>\n",
       "      <td>22290.500000</td>\n",
       "    </tr>\n",
       "    <tr>\n",
       "      <th>75%</th>\n",
       "      <td>2019.000000</td>\n",
       "      <td>32000.000000</td>\n",
       "      <td>145.000000</td>\n",
       "      <td>64.200000</td>\n",
       "      <td>2.100000</td>\n",
       "      <td>28587.250000</td>\n",
       "    </tr>\n",
       "    <tr>\n",
       "      <th>max</th>\n",
       "      <td>2020.000000</td>\n",
       "      <td>259000.000000</td>\n",
       "      <td>580.000000</td>\n",
       "      <td>217.300000</td>\n",
       "      <td>6.200000</td>\n",
       "      <td>60124.000000</td>\n",
       "    </tr>\n",
       "  </tbody>\n",
       "</table>\n",
       "</div>"
      ],
      "text/plain": [
       "               year        mileage           tax           mpg  \\\n",
       "count  12946.000000   12946.000000  12946.000000  12946.000000   \n",
       "mean    2017.275993   22190.058937    129.625367     55.507493   \n",
       "std        2.229319   21202.559871     65.260232     14.990554   \n",
       "min     1970.000000       1.000000      0.000000      1.100000   \n",
       "25%     2016.000000    6416.750000    125.000000     45.600000   \n",
       "50%     2018.000000   15434.500000    145.000000     56.500000   \n",
       "75%     2019.000000   32000.000000    145.000000     64.200000   \n",
       "max     2020.000000  259000.000000    580.000000    217.300000   \n",
       "\n",
       "       Engine Size(Lt)      Price(£)  \n",
       "count     12946.000000  12946.000000  \n",
       "mean          2.045698  23949.029198  \n",
       "std           0.524199   9630.565245  \n",
       "min           0.000000    650.000000  \n",
       "25%           1.600000  17300.000000  \n",
       "50%           2.000000  22290.500000  \n",
       "75%           2.100000  28587.250000  \n",
       "max           6.200000  60124.000000  "
      ]
     },
     "execution_count": 17,
     "metadata": {},
     "output_type": "execute_result"
    }
   ],
   "source": [
    "Merc.describe()"
   ]
  },
  {
   "cell_type": "code",
   "execution_count": 18,
   "metadata": {},
   "outputs": [
    {
     "data": {
      "text/plain": [
       "Text(0.5, 1.0, 'Price')"
      ]
     },
     "execution_count": 18,
     "metadata": {},
     "output_type": "execute_result"
    },
    {
     "data": {
      "image/png": "[encoded data removed]",
      "text/plain": [
       "<Figure size 432x288 with 1 Axes>"
      ]
     },
     "metadata": {
      "needs_background": "light"
     },
     "output_type": "display_data"
    }
   ],
   "source": [
    "plt.hist(Merc['Price(£)'])\n",
    "plt.title('Price')"
   ]
  },
  {
   "cell_type": "code",
   "execution_count": 19,
   "metadata": {},
   "outputs": [
    {
     "data": {
      "text/plain": [
       "Text(0, 0.5, 'Price(£)')"
      ]
     },
     "execution_count": 19,
     "metadata": {},
     "output_type": "execute_result"
    },
    {
     "data": {
      "image/png": "[encoded data removed]",
      "text/plain": [
       "<Figure size 432x288 with 1 Axes>"
      ]
     },
     "metadata": {
      "needs_background": "light"
     },
     "output_type": "display_data"
    }
   ],
   "source": [
    "plt.bar(Merc['transmission'],Merc['Price(£)'])\n",
    "plt.xlabel('Transmision')\n",
    "plt.ylabel('Price(£)')"
   ]
  },
  {
   "cell_type": "code",
   "execution_count": 20,
   "metadata": {},
   "outputs": [],
   "source": [
    "toyota['Price(£)'] = toyota['price']\n",
    "toyota['Engine Size(Lt)'] = toyota['engineSize']\n",
    "toyota = toyota.drop(['price','engineSize'],axis=1)\n",
    "toyota['model'] = toyota['model'].apply(lambda x: x.strip())\n",
    "toyota['Manufacture'] = ['Toyota' for i in range(len(toyota['model']))]\n",
    "toyota = toyota[['Manufacture','model','year','transmission','mileage','tax','mpg','Engine Size(Lt)','Price(£)']]\n",
    "uptt  = toyota['Price(£)'].mean() + 3*toyota['Price(£)'].std()\n",
    "toyota = toyota[-(toyota['Price(£)']>uptt)]"
   ]
  },
  {
   "cell_type": "code",
   "execution_count": 21,
   "metadata": {},
   "outputs": [
    {
     "data": {
      "text/html": [
       "<div>\n",
       "<style scoped>\n",
       "    .dataframe tbody tr th:only-of-type {\n",
       "        vertical-align: middle;\n",
       "    }\n",
       "\n",
       "    .dataframe tbody tr th {\n",
       "        vertical-align: top;\n",
       "    }\n",
       "\n",
       "    .dataframe thead th {\n",
       "        text-align: right;\n",
       "    }\n",
       "</style>\n",
       "<table border=\"1\" class=\"dataframe\">\n",
       "  <thead>\n",
       "    <tr style=\"text-align: right;\">\n",
       "      <th></th>\n",
       "      <th>year</th>\n",
       "      <th>mileage</th>\n",
       "      <th>tax</th>\n",
       "      <th>mpg</th>\n",
       "      <th>Engine Size(Lt)</th>\n",
       "      <th>Price(£)</th>\n",
       "    </tr>\n",
       "  </thead>\n",
       "  <tbody>\n",
       "    <tr>\n",
       "      <th>count</th>\n",
       "      <td>6662.000000</td>\n",
       "      <td>6662.000000</td>\n",
       "      <td>6662.000000</td>\n",
       "      <td>6662.000000</td>\n",
       "      <td>6662.000000</td>\n",
       "      <td>6662.000000</td>\n",
       "    </tr>\n",
       "    <tr>\n",
       "      <th>mean</th>\n",
       "      <td>2016.724707</td>\n",
       "      <td>23026.385170</td>\n",
       "      <td>93.892225</td>\n",
       "      <td>63.306109</td>\n",
       "      <td>1.457100</td>\n",
       "      <td>12193.058091</td>\n",
       "    </tr>\n",
       "    <tr>\n",
       "      <th>std</th>\n",
       "      <td>2.201701</td>\n",
       "      <td>19139.699136</td>\n",
       "      <td>73.584194</td>\n",
       "      <td>15.543671</td>\n",
       "      <td>0.416385</td>\n",
       "      <td>5519.145319</td>\n",
       "    </tr>\n",
       "    <tr>\n",
       "      <th>min</th>\n",
       "      <td>1998.000000</td>\n",
       "      <td>2.000000</td>\n",
       "      <td>0.000000</td>\n",
       "      <td>2.800000</td>\n",
       "      <td>0.000000</td>\n",
       "      <td>850.000000</td>\n",
       "    </tr>\n",
       "    <tr>\n",
       "      <th>25%</th>\n",
       "      <td>2016.000000</td>\n",
       "      <td>9612.250000</td>\n",
       "      <td>0.000000</td>\n",
       "      <td>55.400000</td>\n",
       "      <td>1.000000</td>\n",
       "      <td>8250.000000</td>\n",
       "    </tr>\n",
       "    <tr>\n",
       "      <th>50%</th>\n",
       "      <td>2017.000000</td>\n",
       "      <td>18694.000000</td>\n",
       "      <td>135.000000</td>\n",
       "      <td>62.800000</td>\n",
       "      <td>1.500000</td>\n",
       "      <td>10708.500000</td>\n",
       "    </tr>\n",
       "    <tr>\n",
       "      <th>75%</th>\n",
       "      <td>2018.000000</td>\n",
       "      <td>31185.250000</td>\n",
       "      <td>145.000000</td>\n",
       "      <td>70.600000</td>\n",
       "      <td>1.800000</td>\n",
       "      <td>14799.000000</td>\n",
       "    </tr>\n",
       "    <tr>\n",
       "      <th>max</th>\n",
       "      <td>2020.000000</td>\n",
       "      <td>174419.000000</td>\n",
       "      <td>565.000000</td>\n",
       "      <td>235.000000</td>\n",
       "      <td>4.200000</td>\n",
       "      <td>31498.000000</td>\n",
       "    </tr>\n",
       "  </tbody>\n",
       "</table>\n",
       "</div>"
      ],
      "text/plain": [
       "              year        mileage          tax          mpg  Engine Size(Lt)  \\\n",
       "count  6662.000000    6662.000000  6662.000000  6662.000000      6662.000000   \n",
       "mean   2016.724707   23026.385170    93.892225    63.306109         1.457100   \n",
       "std       2.201701   19139.699136    73.584194    15.543671         0.416385   \n",
       "min    1998.000000       2.000000     0.000000     2.800000         0.000000   \n",
       "25%    2016.000000    9612.250000     0.000000    55.400000         1.000000   \n",
       "50%    2017.000000   18694.000000   135.000000    62.800000         1.500000   \n",
       "75%    2018.000000   31185.250000   145.000000    70.600000         1.800000   \n",
       "max    2020.000000  174419.000000   565.000000   235.000000         4.200000   \n",
       "\n",
       "           Price(£)  \n",
       "count   6662.000000  \n",
       "mean   12193.058091  \n",
       "std     5519.145319  \n",
       "min      850.000000  \n",
       "25%     8250.000000  \n",
       "50%    10708.500000  \n",
       "75%    14799.000000  \n",
       "max    31498.000000  "
      ]
     },
     "execution_count": 21,
     "metadata": {},
     "output_type": "execute_result"
    }
   ],
   "source": [
    "toyota.describe()"
   ]
  },
  {
   "cell_type": "code",
   "execution_count": 22,
   "metadata": {},
   "outputs": [
    {
     "data": {
      "text/plain": [
       "Text(0.5, 1.0, 'Price')"
      ]
     },
     "execution_count": 22,
     "metadata": {},
     "output_type": "execute_result"
    },
    {
     "data": {
      "image/png": "[encoded data removed]",
      "text/plain": [
       "<Figure size 432x288 with 1 Axes>"
      ]
     },
     "metadata": {
      "needs_background": "light"
     },
     "output_type": "display_data"
    }
   ],
   "source": [
    "plt.hist(toyota['Price(£)'])\n",
    "plt.title('Price')"
   ]
  },
  {
   "cell_type": "code",
   "execution_count": 23,
   "metadata": {},
   "outputs": [
    {
     "data": {
      "text/plain": [
       "Text(0, 0.5, 'Price(£)')"
      ]
     },
     "execution_count": 23,
     "metadata": {},
     "output_type": "execute_result"
    },
    {
     "data": {
      "image/png": "[encoded data removed]",
      "text/plain": [
       "<Figure size 432x288 with 1 Axes>"
      ]
     },
     "metadata": {
      "needs_background": "light"
     },
     "output_type": "display_data"
    }
   ],
   "source": [
    "plt.bar(toyota['transmission'],toyota['Price(£)'])\n",
    "plt.xlabel('Transmision')\n",
    "plt.ylabel('Price(£)')"
   ]
  },
  {
   "cell_type": "code",
   "execution_count": 24,
   "metadata": {},
   "outputs": [],
   "source": [
    "vw['Price(£)'] = vw['price']\n",
    "vw['Engine Size(Lt)'] = vw['engineSize']\n",
    "vw = vw.drop(['price','engineSize'],axis=1)\n",
    "vw['model'] = vw['model'].apply(lambda x: x.strip())\n",
    "vw['Manufacture'] = ['Volkswagen' for i in range(len(vw['model']))]\n",
    "vw = vw[['Manufacture','model','year','transmission','mileage','tax','mpg','Engine Size(Lt)','Price(£)']]\n",
    "upvw  = vw['Price(£)'].mean() + 3*vw['Price(£)'].std()\n",
    "vw = vw[-(vw['Price(£)']>upvw)]"
   ]
  },
  {
   "cell_type": "code",
   "execution_count": 25,
   "metadata": {},
   "outputs": [
    {
     "data": {
      "text/html": [
       "<div>\n",
       "<style scoped>\n",
       "    .dataframe tbody tr th:only-of-type {\n",
       "        vertical-align: middle;\n",
       "    }\n",
       "\n",
       "    .dataframe tbody tr th {\n",
       "        vertical-align: top;\n",
       "    }\n",
       "\n",
       "    .dataframe thead th {\n",
       "        text-align: right;\n",
       "    }\n",
       "</style>\n",
       "<table border=\"1\" class=\"dataframe\">\n",
       "  <thead>\n",
       "    <tr style=\"text-align: right;\">\n",
       "      <th></th>\n",
       "      <th>year</th>\n",
       "      <th>mileage</th>\n",
       "      <th>tax</th>\n",
       "      <th>mpg</th>\n",
       "      <th>Engine Size(Lt)</th>\n",
       "      <th>Price(£)</th>\n",
       "    </tr>\n",
       "  </thead>\n",
       "  <tbody>\n",
       "    <tr>\n",
       "      <th>count</th>\n",
       "      <td>14947.000000</td>\n",
       "      <td>14947.00000</td>\n",
       "      <td>14947.000000</td>\n",
       "      <td>14947.000000</td>\n",
       "      <td>14947.000000</td>\n",
       "      <td>14947.000000</td>\n",
       "    </tr>\n",
       "    <tr>\n",
       "      <th>mean</th>\n",
       "      <td>2017.228942</td>\n",
       "      <td>22331.45280</td>\n",
       "      <td>112.150264</td>\n",
       "      <td>54.039091</td>\n",
       "      <td>1.586385</td>\n",
       "      <td>16422.798756</td>\n",
       "    </tr>\n",
       "    <tr>\n",
       "      <th>std</th>\n",
       "      <td>2.054173</td>\n",
       "      <td>21195.65907</td>\n",
       "      <td>63.618890</td>\n",
       "      <td>13.518126</td>\n",
       "      <td>0.445048</td>\n",
       "      <td>6935.666559</td>\n",
       "    </tr>\n",
       "    <tr>\n",
       "      <th>min</th>\n",
       "      <td>2000.000000</td>\n",
       "      <td>1.00000</td>\n",
       "      <td>0.000000</td>\n",
       "      <td>0.300000</td>\n",
       "      <td>0.000000</td>\n",
       "      <td>899.000000</td>\n",
       "    </tr>\n",
       "    <tr>\n",
       "      <th>25%</th>\n",
       "      <td>2016.000000</td>\n",
       "      <td>6000.00000</td>\n",
       "      <td>30.000000</td>\n",
       "      <td>46.650000</td>\n",
       "      <td>1.200000</td>\n",
       "      <td>10950.000000</td>\n",
       "    </tr>\n",
       "    <tr>\n",
       "      <th>50%</th>\n",
       "      <td>2017.000000</td>\n",
       "      <td>16728.00000</td>\n",
       "      <td>145.000000</td>\n",
       "      <td>53.300000</td>\n",
       "      <td>1.600000</td>\n",
       "      <td>15391.000000</td>\n",
       "    </tr>\n",
       "    <tr>\n",
       "      <th>75%</th>\n",
       "      <td>2019.000000</td>\n",
       "      <td>32080.00000</td>\n",
       "      <td>145.000000</td>\n",
       "      <td>60.100000</td>\n",
       "      <td>2.000000</td>\n",
       "      <td>20981.000000</td>\n",
       "    </tr>\n",
       "    <tr>\n",
       "      <th>max</th>\n",
       "      <td>2020.000000</td>\n",
       "      <td>212000.00000</td>\n",
       "      <td>580.000000</td>\n",
       "      <td>188.300000</td>\n",
       "      <td>3.200000</td>\n",
       "      <td>40000.000000</td>\n",
       "    </tr>\n",
       "  </tbody>\n",
       "</table>\n",
       "</div>"
      ],
      "text/plain": [
       "               year       mileage           tax           mpg  \\\n",
       "count  14947.000000   14947.00000  14947.000000  14947.000000   \n",
       "mean    2017.228942   22331.45280    112.150264     54.039091   \n",
       "std        2.054173   21195.65907     63.618890     13.518126   \n",
       "min     2000.000000       1.00000      0.000000      0.300000   \n",
       "25%     2016.000000    6000.00000     30.000000     46.650000   \n",
       "50%     2017.000000   16728.00000    145.000000     53.300000   \n",
       "75%     2019.000000   32080.00000    145.000000     60.100000   \n",
       "max     2020.000000  212000.00000    580.000000    188.300000   \n",
       "\n",
       "       Engine Size(Lt)      Price(£)  \n",
       "count     14947.000000  14947.000000  \n",
       "mean          1.586385  16422.798756  \n",
       "std           0.445048   6935.666559  \n",
       "min           0.000000    899.000000  \n",
       "25%           1.200000  10950.000000  \n",
       "50%           1.600000  15391.000000  \n",
       "75%           2.000000  20981.000000  \n",
       "max           3.200000  40000.000000  "
      ]
     },
     "execution_count": 25,
     "metadata": {},
     "output_type": "execute_result"
    }
   ],
   "source": [
    "vw.describe()"
   ]
  },
  {
   "cell_type": "code",
   "execution_count": 26,
   "metadata": {},
   "outputs": [
    {
     "data": {
      "text/plain": [
       "Text(0.5, 1.0, 'Price')"
      ]
     },
     "execution_count": 26,
     "metadata": {},
     "output_type": "execute_result"
    },
    {
     "data": {
      "image/png": "[encoded data removed]",
      "text/plain": [
       "<Figure size 432x288 with 1 Axes>"
      ]
     },
     "metadata": {
      "needs_background": "light"
     },
     "output_type": "display_data"
    }
   ],
   "source": [
    "plt.hist(vw['Price(£)'])\n",
    "plt.title('Price')"
   ]
  },
  {
   "cell_type": "code",
   "execution_count": 27,
   "metadata": {},
   "outputs": [
    {
     "data": {
      "text/plain": [
       "Text(0, 0.5, 'Price(£)')"
      ]
     },
     "execution_count": 27,
     "metadata": {},
     "output_type": "execute_result"
    },
    {
     "data": {
      "image/png": "[encoded data removed]",
      "text/plain": [
       "<Figure size 432x288 with 1 Axes>"
      ]
     },
     "metadata": {
      "needs_background": "light"
     },
     "output_type": "display_data"
    }
   ],
   "source": [
    "plt.bar(vw['transmission'],vw['Price(£)'])\n",
    "plt.xlabel('Transmision')\n",
    "plt.ylabel('Price(£)')"
   ]
  },
  {
   "cell_type": "code",
   "execution_count": 28,
   "metadata": {},
   "outputs": [],
   "source": [
    "hyundi['Price(£)'] = hyundi['price']\n",
    "hyundi['Engine Size(Lt)'] = hyundi['engineSize']\n",
    "hyundi['tax'] = hyundi['tax(£)']\n",
    "hyundi = hyundi.drop(['price','engineSize','tax(£)'],axis=1)\n",
    "hyundi['model'] = hyundi['model'].apply(lambda x: x.strip())\n",
    "hyundi['Manufacture'] = ['Hyundi' for i in range(len(hyundi['model']))]\n",
    "hyundi = hyundi[['Manufacture','model','year','transmission','mileage','tax','mpg','Engine Size(Lt)','Price(£)']]\n",
    "uphy  = hyundi['Price(£)'].mean() + 3*hyundi['Price(£)'].std()\n",
    "hyundi = hyundi[-(hyundi['Price(£)']>uphy)]"
   ]
  },
  {
   "cell_type": "code",
   "execution_count": 29,
   "metadata": {},
   "outputs": [
    {
     "data": {
      "text/html": [
       "<div>\n",
       "<style scoped>\n",
       "    .dataframe tbody tr th:only-of-type {\n",
       "        vertical-align: middle;\n",
       "    }\n",
       "\n",
       "    .dataframe tbody tr th {\n",
       "        vertical-align: top;\n",
       "    }\n",
       "\n",
       "    .dataframe thead th {\n",
       "        text-align: right;\n",
       "    }\n",
       "</style>\n",
       "<table border=\"1\" class=\"dataframe\">\n",
       "  <thead>\n",
       "    <tr style=\"text-align: right;\">\n",
       "      <th></th>\n",
       "      <th>year</th>\n",
       "      <th>mileage</th>\n",
       "      <th>tax</th>\n",
       "      <th>mpg</th>\n",
       "      <th>Engine Size(Lt)</th>\n",
       "      <th>Price(£)</th>\n",
       "    </tr>\n",
       "  </thead>\n",
       "  <tbody>\n",
       "    <tr>\n",
       "      <th>count</th>\n",
       "      <td>4770.000000</td>\n",
       "      <td>4770.000000</td>\n",
       "      <td>4770.000000</td>\n",
       "      <td>4770.000000</td>\n",
       "      <td>4770.000000</td>\n",
       "      <td>4770.000000</td>\n",
       "    </tr>\n",
       "    <tr>\n",
       "      <th>mean</th>\n",
       "      <td>2017.069811</td>\n",
       "      <td>21795.367925</td>\n",
       "      <td>120.687631</td>\n",
       "      <td>54.092872</td>\n",
       "      <td>1.444130</td>\n",
       "      <td>12336.941719</td>\n",
       "    </tr>\n",
       "    <tr>\n",
       "      <th>std</th>\n",
       "      <td>1.917449</td>\n",
       "      <td>17717.706826</td>\n",
       "      <td>58.450217</td>\n",
       "      <td>12.705921</td>\n",
       "      <td>0.391384</td>\n",
       "      <td>5156.311844</td>\n",
       "    </tr>\n",
       "    <tr>\n",
       "      <th>min</th>\n",
       "      <td>2000.000000</td>\n",
       "      <td>1.000000</td>\n",
       "      <td>0.000000</td>\n",
       "      <td>1.100000</td>\n",
       "      <td>0.000000</td>\n",
       "      <td>1200.000000</td>\n",
       "    </tr>\n",
       "    <tr>\n",
       "      <th>25%</th>\n",
       "      <td>2016.000000</td>\n",
       "      <td>8658.000000</td>\n",
       "      <td>125.000000</td>\n",
       "      <td>45.600000</td>\n",
       "      <td>1.200000</td>\n",
       "      <td>7999.000000</td>\n",
       "    </tr>\n",
       "    <tr>\n",
       "      <th>50%</th>\n",
       "      <td>2017.000000</td>\n",
       "      <td>17773.000000</td>\n",
       "      <td>145.000000</td>\n",
       "      <td>56.500000</td>\n",
       "      <td>1.600000</td>\n",
       "      <td>11792.500000</td>\n",
       "    </tr>\n",
       "    <tr>\n",
       "      <th>75%</th>\n",
       "      <td>2018.000000</td>\n",
       "      <td>31163.750000</td>\n",
       "      <td>145.000000</td>\n",
       "      <td>60.100000</td>\n",
       "      <td>1.700000</td>\n",
       "      <td>15498.000000</td>\n",
       "    </tr>\n",
       "    <tr>\n",
       "      <th>max</th>\n",
       "      <td>2020.000000</td>\n",
       "      <td>138000.000000</td>\n",
       "      <td>555.000000</td>\n",
       "      <td>256.800000</td>\n",
       "      <td>2.900000</td>\n",
       "      <td>30699.000000</td>\n",
       "    </tr>\n",
       "  </tbody>\n",
       "</table>\n",
       "</div>"
      ],
      "text/plain": [
       "              year        mileage          tax          mpg  Engine Size(Lt)  \\\n",
       "count  4770.000000    4770.000000  4770.000000  4770.000000      4770.000000   \n",
       "mean   2017.069811   21795.367925   120.687631    54.092872         1.444130   \n",
       "std       1.917449   17717.706826    58.450217    12.705921         0.391384   \n",
       "min    2000.000000       1.000000     0.000000     1.100000         0.000000   \n",
       "25%    2016.000000    8658.000000   125.000000    45.600000         1.200000   \n",
       "50%    2017.000000   17773.000000   145.000000    56.500000         1.600000   \n",
       "75%    2018.000000   31163.750000   145.000000    60.100000         1.700000   \n",
       "max    2020.000000  138000.000000   555.000000   256.800000         2.900000   \n",
       "\n",
       "           Price(£)  \n",
       "count   4770.000000  \n",
       "mean   12336.941719  \n",
       "std     5156.311844  \n",
       "min     1200.000000  \n",
       "25%     7999.000000  \n",
       "50%    11792.500000  \n",
       "75%    15498.000000  \n",
       "max    30699.000000  "
      ]
     },
     "execution_count": 29,
     "metadata": {},
     "output_type": "execute_result"
    }
   ],
   "source": [
    "hyundi.describe()"
   ]
  },
  {
   "cell_type": "code",
   "execution_count": 30,
   "metadata": {},
   "outputs": [
    {
     "data": {
      "text/plain": [
       "Text(0.5, 1.0, 'Price')"
      ]
     },
     "execution_count": 30,
     "metadata": {},
     "output_type": "execute_result"
    },
    {
     "data": {
      "image/png": "[encoded data removed]",
      "text/plain": [
       "<Figure size 432x288 with 1 Axes>"
      ]
     },
     "metadata": {
      "needs_background": "light"
     },
     "output_type": "display_data"
    }
   ],
   "source": [
    "plt.hist(hyundi['Price(£)'])\n",
    "plt.title('Price')"
   ]
  },
  {
   "cell_type": "code",
   "execution_count": 31,
   "metadata": {},
   "outputs": [
    {
     "data": {
      "text/plain": [
       "Text(0, 0.5, 'Price(£)')"
      ]
     },
     "execution_count": 31,
     "metadata": {},
     "output_type": "execute_result"
    },
    {
     "data": {
      "image/png": "[encoded data removed]",
      "text/plain": [
       "<Figure size 432x288 with 1 Axes>"
      ]
     },
     "metadata": {
      "needs_background": "light"
     },
     "output_type": "display_data"
    }
   ],
   "source": [
    "plt.bar(hyundi['transmission'],hyundi['Price(£)'])\n",
    "plt.xlabel('Transmision')\n",
    "plt.ylabel('Price(£)')"
   ]
  },
  {
   "cell_type": "code",
   "execution_count": 32,
   "metadata": {},
   "outputs": [],
   "source": [
    "df = pd.concat([Audi,BMW,Ford,Merc,toyota,vw,hyundi],ignore_index=True) # Combined File DataFrame"
   ]
  },
  {
   "cell_type": "markdown",
   "metadata": {},
   "source": [
    "###### Data Cleaning, Analyzing and Developing For Model"
   ]
  },
  {
   "cell_type": "code",
   "execution_count": 33,
   "metadata": {},
   "outputs": [
    {
     "data": {
      "text/plain": [
       "year\n",
       "1970        1\n",
       "1996        2\n",
       "1997        3\n",
       "1998        8\n",
       "1999        6\n",
       "2000        9\n",
       "2001       18\n",
       "2002       26\n",
       "2003       29\n",
       "2004       44\n",
       "2005       59\n",
       "2006       72\n",
       "2007      132\n",
       "2008      167\n",
       "2009      234\n",
       "2010      262\n",
       "2011      345\n",
       "2012      520\n",
       "2013     2188\n",
       "2014     3358\n",
       "2015     6286\n",
       "2016    12495\n",
       "2017    17032\n",
       "2018    10621\n",
       "2019    20781\n",
       "2020     3532\n",
       "2060        1\n",
       "Name: model, dtype: int64"
      ]
     },
     "execution_count": 33,
     "metadata": {},
     "output_type": "execute_result"
    }
   ],
   "source": [
    "df.groupby('year').count()['model']"
   ]
  },
  {
   "cell_type": "code",
   "execution_count": 34,
   "metadata": {},
   "outputs": [],
   "source": [
    "df2 = df[(df.year>1999)&(df.year!=2060)]"
   ]
  },
  {
   "cell_type": "code",
   "execution_count": 35,
   "metadata": {},
   "outputs": [
    {
     "data": {
      "text/plain": [
       "year\n",
       "2000        9\n",
       "2001       18\n",
       "2002       26\n",
       "2003       29\n",
       "2004       44\n",
       "2005       59\n",
       "2006       72\n",
       "2007      132\n",
       "2008      167\n",
       "2009      234\n",
       "2010      262\n",
       "2011      345\n",
       "2012      520\n",
       "2013     2188\n",
       "2014     3358\n",
       "2015     6286\n",
       "2016    12495\n",
       "2017    17032\n",
       "2018    10621\n",
       "2019    20781\n",
       "2020     3532\n",
       "Name: model, dtype: int64"
      ]
     },
     "execution_count": 35,
     "metadata": {},
     "output_type": "execute_result"
    }
   ],
   "source": [
    "df2.groupby('year').count()['model']"
   ]
  },
  {
   "cell_type": "code",
   "execution_count": 36,
   "metadata": {},
   "outputs": [
    {
     "data": {
      "text/plain": [
       "array(['Manual', 'Automatic', 'Semi-Auto', 'Other'], dtype=object)"
      ]
     },
     "execution_count": 36,
     "metadata": {},
     "output_type": "execute_result"
    }
   ],
   "source": [
    "df2.transmission.unique()"
   ]
  },
  {
   "cell_type": "code",
   "execution_count": 37,
   "metadata": {},
   "outputs": [
    {
     "data": {
      "text/html": [
       "<div>\n",
       "<style scoped>\n",
       "    .dataframe tbody tr th:only-of-type {\n",
       "        vertical-align: middle;\n",
       "    }\n",
       "\n",
       "    .dataframe tbody tr th {\n",
       "        vertical-align: top;\n",
       "    }\n",
       "\n",
       "    .dataframe thead th {\n",
       "        text-align: right;\n",
       "    }\n",
       "</style>\n",
       "<table border=\"1\" class=\"dataframe\">\n",
       "  <thead>\n",
       "    <tr style=\"text-align: right;\">\n",
       "      <th></th>\n",
       "      <th>Manufacture</th>\n",
       "      <th>model</th>\n",
       "      <th>year</th>\n",
       "      <th>transmission</th>\n",
       "      <th>mileage</th>\n",
       "      <th>tax</th>\n",
       "      <th>mpg</th>\n",
       "      <th>Engine Size(Lt)</th>\n",
       "      <th>Price(£)</th>\n",
       "    </tr>\n",
       "  </thead>\n",
       "  <tbody>\n",
       "    <tr>\n",
       "      <th>48396</th>\n",
       "      <td>Mercedes Benz</td>\n",
       "      <td>GLA Class</td>\n",
       "      <td>2016</td>\n",
       "      <td>Other</td>\n",
       "      <td>30895</td>\n",
       "      <td>125</td>\n",
       "      <td>56.5</td>\n",
       "      <td>0.0</td>\n",
       "      <td>18700</td>\n",
       "    </tr>\n",
       "    <tr>\n",
       "      <th>51499</th>\n",
       "      <td>Mercedes Benz</td>\n",
       "      <td>SLK</td>\n",
       "      <td>2015</td>\n",
       "      <td>Other</td>\n",
       "      <td>39000</td>\n",
       "      <td>150</td>\n",
       "      <td>56.5</td>\n",
       "      <td>2.1</td>\n",
       "      <td>12995</td>\n",
       "    </tr>\n",
       "    <tr>\n",
       "      <th>54287</th>\n",
       "      <td>Toyota</td>\n",
       "      <td>Yaris</td>\n",
       "      <td>2015</td>\n",
       "      <td>Other</td>\n",
       "      <td>16733</td>\n",
       "      <td>0</td>\n",
       "      <td>78.0</td>\n",
       "      <td>1.5</td>\n",
       "      <td>12795</td>\n",
       "    </tr>\n",
       "    <tr>\n",
       "      <th>78113</th>\n",
       "      <td>Hyundi</td>\n",
       "      <td>Ioniq</td>\n",
       "      <td>2017</td>\n",
       "      <td>Other</td>\n",
       "      <td>27779</td>\n",
       "      <td>0</td>\n",
       "      <td>78.5</td>\n",
       "      <td>1.6</td>\n",
       "      <td>12495</td>\n",
       "    </tr>\n",
       "    <tr>\n",
       "      <th>78135</th>\n",
       "      <td>Hyundi</td>\n",
       "      <td>Tucson</td>\n",
       "      <td>2017</td>\n",
       "      <td>Other</td>\n",
       "      <td>25915</td>\n",
       "      <td>145</td>\n",
       "      <td>39.8</td>\n",
       "      <td>1.6</td>\n",
       "      <td>16995</td>\n",
       "    </tr>\n",
       "  </tbody>\n",
       "</table>\n",
       "</div>"
      ],
      "text/plain": [
       "         Manufacture      model  year transmission  mileage  tax   mpg  \\\n",
       "48396  Mercedes Benz  GLA Class  2016        Other    30895  125  56.5   \n",
       "51499  Mercedes Benz        SLK  2015        Other    39000  150  56.5   \n",
       "54287         Toyota      Yaris  2015        Other    16733    0  78.0   \n",
       "78113         Hyundi      Ioniq  2017        Other    27779    0  78.5   \n",
       "78135         Hyundi     Tucson  2017        Other    25915  145  39.8   \n",
       "\n",
       "       Engine Size(Lt)  Price(£)  \n",
       "48396              0.0     18700  \n",
       "51499              2.1     12995  \n",
       "54287              1.5     12795  \n",
       "78113              1.6     12495  \n",
       "78135              1.6     16995  "
      ]
     },
     "execution_count": 37,
     "metadata": {},
     "output_type": "execute_result"
    }
   ],
   "source": [
    "df2[(df2.transmission=='Other')]"
   ]
  },
  {
   "cell_type": "code",
   "execution_count": 38,
   "metadata": {},
   "outputs": [],
   "source": [
    "df3 = df2[-(df2.transmission=='Other')]"
   ]
  },
  {
   "cell_type": "code",
   "execution_count": 39,
   "metadata": {},
   "outputs": [
    {
     "data": {
      "text/html": [
       "<div>\n",
       "<style scoped>\n",
       "    .dataframe tbody tr th:only-of-type {\n",
       "        vertical-align: middle;\n",
       "    }\n",
       "\n",
       "    .dataframe tbody tr th {\n",
       "        vertical-align: top;\n",
       "    }\n",
       "\n",
       "    .dataframe thead th {\n",
       "        text-align: right;\n",
       "    }\n",
       "</style>\n",
       "<table border=\"1\" class=\"dataframe\">\n",
       "  <thead>\n",
       "    <tr style=\"text-align: right;\">\n",
       "      <th></th>\n",
       "      <th>Manufacture</th>\n",
       "      <th>model</th>\n",
       "      <th>year</th>\n",
       "      <th>transmission</th>\n",
       "      <th>mileage</th>\n",
       "      <th>tax</th>\n",
       "      <th>mpg</th>\n",
       "      <th>Engine Size(Lt)</th>\n",
       "      <th>Price(£)</th>\n",
       "    </tr>\n",
       "  </thead>\n",
       "  <tbody>\n",
       "    <tr>\n",
       "      <th>0</th>\n",
       "      <td>Audi</td>\n",
       "      <td>A1</td>\n",
       "      <td>2017</td>\n",
       "      <td>Manual</td>\n",
       "      <td>15735</td>\n",
       "      <td>150</td>\n",
       "      <td>55.4</td>\n",
       "      <td>1.4</td>\n",
       "      <td>12500</td>\n",
       "    </tr>\n",
       "    <tr>\n",
       "      <th>1</th>\n",
       "      <td>Audi</td>\n",
       "      <td>A6</td>\n",
       "      <td>2016</td>\n",
       "      <td>Automatic</td>\n",
       "      <td>36203</td>\n",
       "      <td>20</td>\n",
       "      <td>64.2</td>\n",
       "      <td>2.0</td>\n",
       "      <td>16500</td>\n",
       "    </tr>\n",
       "    <tr>\n",
       "      <th>2</th>\n",
       "      <td>Audi</td>\n",
       "      <td>A1</td>\n",
       "      <td>2016</td>\n",
       "      <td>Manual</td>\n",
       "      <td>29946</td>\n",
       "      <td>30</td>\n",
       "      <td>55.4</td>\n",
       "      <td>1.4</td>\n",
       "      <td>11000</td>\n",
       "    </tr>\n",
       "    <tr>\n",
       "      <th>3</th>\n",
       "      <td>Audi</td>\n",
       "      <td>A4</td>\n",
       "      <td>2017</td>\n",
       "      <td>Automatic</td>\n",
       "      <td>25952</td>\n",
       "      <td>145</td>\n",
       "      <td>67.3</td>\n",
       "      <td>2.0</td>\n",
       "      <td>16800</td>\n",
       "    </tr>\n",
       "    <tr>\n",
       "      <th>4</th>\n",
       "      <td>Audi</td>\n",
       "      <td>A3</td>\n",
       "      <td>2019</td>\n",
       "      <td>Manual</td>\n",
       "      <td>1998</td>\n",
       "      <td>145</td>\n",
       "      <td>49.6</td>\n",
       "      <td>1.0</td>\n",
       "      <td>17300</td>\n",
       "    </tr>\n",
       "  </tbody>\n",
       "</table>\n",
       "</div>"
      ],
      "text/plain": [
       "  Manufacture model  year transmission  mileage  tax   mpg  Engine Size(Lt)  \\\n",
       "0        Audi    A1  2017       Manual    15735  150  55.4              1.4   \n",
       "1        Audi    A6  2016    Automatic    36203   20  64.2              2.0   \n",
       "2        Audi    A1  2016       Manual    29946   30  55.4              1.4   \n",
       "3        Audi    A4  2017    Automatic    25952  145  67.3              2.0   \n",
       "4        Audi    A3  2019       Manual     1998  145  49.6              1.0   \n",
       "\n",
       "   Price(£)  \n",
       "0     12500  \n",
       "1     16500  \n",
       "2     11000  \n",
       "3     16800  \n",
       "4     17300  "
      ]
     },
     "execution_count": 39,
     "metadata": {},
     "output_type": "execute_result"
    }
   ],
   "source": [
    "df3.head()"
   ]
  },
  {
   "cell_type": "markdown",
   "metadata": {},
   "source": [
    "###### Creating dumy variables for Text data"
   ]
  },
  {
   "cell_type": "code",
   "execution_count": 40,
   "metadata": {},
   "outputs": [],
   "source": [
    "Manu = pd.get_dummies(df3.Manufacture)\n",
    "Models = pd.get_dummies(df3.model)\n",
    "Trans = pd.get_dummies(df3.transmission)\n",
    "df4 = df3.copy()"
   ]
  },
  {
   "cell_type": "markdown",
   "metadata": {},
   "source": [
    "###### Combining Dumy variables with dataframe and managing it"
   ]
  },
  {
   "cell_type": "code",
   "execution_count": 41,
   "metadata": {},
   "outputs": [],
   "source": [
    "df5 = pd.concat([Manu,Models,df4,Trans],axis=1)"
   ]
  },
  {
   "cell_type": "code",
   "execution_count": 42,
   "metadata": {},
   "outputs": [],
   "source": [
    "df6 = df5.drop(['transmission','Manufacture','model','Volkswagen','Semi-Auto'],axis=1)"
   ]
  },
  {
   "cell_type": "code",
   "execution_count": 43,
   "metadata": {},
   "outputs": [
    {
     "data": {
      "text/plain": [
       "(78205, 171)"
      ]
     },
     "execution_count": 43,
     "metadata": {},
     "output_type": "execute_result"
    }
   ],
   "source": [
    "df6.shape"
   ]
  },
  {
   "cell_type": "code",
   "execution_count": 44,
   "metadata": {},
   "outputs": [],
   "source": [
    "x = df6.drop('Price(£)',axis=1)\n",
    "y = df6['Price(£)']"
   ]
  },
  {
   "cell_type": "markdown",
   "metadata": {},
   "source": [
    "###### Finalizing Model"
   ]
  },
  {
   "cell_type": "code",
   "execution_count": 45,
   "metadata": {},
   "outputs": [],
   "source": [
    "from sklearn.model_selection import train_test_split    # Spliting Model into test and train\n",
    "from sklearn.linear_model import LinearRegression  # Linear Regression Algorithm\n",
    "import pickle  # for saving model"
   ]
  },
  {
   "cell_type": "code",
   "execution_count": 46,
   "metadata": {},
   "outputs": [],
   "source": [
    "x_train,x_test,y_train,y_test = train_test_split(x,y,test_size=0.25,random_state=20)"
   ]
  },
  {
   "cell_type": "code",
   "execution_count": 47,
   "metadata": {},
   "outputs": [],
   "source": [
    "CarPredictionModel = LinearRegression().fit(x_train,y_train)"
   ]
  },
  {
   "cell_type": "code",
   "execution_count": 48,
   "metadata": {},
   "outputs": [
    {
     "data": {
      "text/plain": [
       "86.91509088197698"
      ]
     },
     "execution_count": 48,
     "metadata": {},
     "output_type": "execute_result"
    }
   ],
   "source": [
    "CarPredictionModel.score(x_test,y_test)*100"
   ]
  },
  {
   "cell_type": "markdown",
   "metadata": {},
   "source": [
    "Model Having the Accuracy of 86.91%"
   ]
  },
  {
   "cell_type": "markdown",
   "metadata": {},
   "source": [
    "##### Function Help us to Predict the Car Prices"
   ]
  },
  {
   "cell_type": "code",
   "execution_count": 49,
   "metadata": {},
   "outputs": [],
   "source": [
    "def PredictCarPrice(manu,model,year,trans,milag,tax,mpg,Engsize,ideal):\n",
    "    st = np.zeros(170)\n",
    "    ide = ideal\n",
    "    for i in range(6):  # for Company\n",
    "        if manu == ide[i]:\n",
    "            st[i] = 1\n",
    "    for i in range(6,164):\n",
    "        if model == ide[i]:\n",
    "            st[i] = 1\n",
    "    st[163] = year\n",
    "    st[164] = milag\n",
    "    st[165] = tax\n",
    "    st[166] = mpg\n",
    "    st[167] = Engsize\n",
    "    for i in range(168,170):\n",
    "        if trans == ide[i]:\n",
    "            st[i] = 1\n",
    "    return [st]"
   ]
  },
  {
   "cell_type": "markdown",
   "metadata": {},
   "source": [
    "###### Saving Model Using Pickle and its function "
   ]
  },
  {
   "cell_type": "code",
   "execution_count": 50,
   "metadata": {},
   "outputs": [],
   "source": [
    "with open('CarPredictionModel','wb') as car:\n",
    "    pickle.dump(CarPredictionModel,car)\n",
    "with open('VariableLength','wb') as var:\n",
    "    pickle.dump(x_test.columns,var)\n",
    "with open('PredictCarPrice','wb') as func:\n",
    "    pickle.dump(PredictCarPrice,func)"
   ]
  },
  {
   "cell_type": "markdown",
   "metadata": {},
   "source": [
    "Successfully Saved Model"
   ]
  },
  {
   "cell_type": "code",
   "execution_count": 51,
   "metadata": {},
   "outputs": [
    {
     "data": {
      "text/plain": [
       "array([15665.02269241])"
      ]
     },
     "execution_count": 51,
     "metadata": {},
     "output_type": "execute_result"
    }
   ],
   "source": [
    "CarPredictionModel.predict(PredictCarPrice('Toyota','Yaris',2019,'Manual',5571.0,145,47.9,1.5,x_test.columns))"
   ]
  },
  {
   "cell_type": "markdown",
   "metadata": {},
   "source": [
    "### The End"
   ]
  },
  {
   "cell_type": "code",
   "execution_count": null,
   "metadata": {},
   "outputs": [],
   "source": []
  }
 ],
 "metadata": {
  "kernelspec": {
   "display_name": "Python 3",
   "language": "python",
   "name": "python3"
  },
  "language_info": {
   "codemirror_mode": {
    "name": "ipython",
    "version": 3
   },
   "file_extension": ".py",
   "mimetype": "text/x-python",
   "name": "python",
   "nbconvert_exporter": "python",
   "pygments_lexer": "ipython3",
   "version": "3.8.8"
  }
 },
 "nbformat": 4,
 "nbformat_minor": 4
}
